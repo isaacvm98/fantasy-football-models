{
 "cells": [
  {
   "cell_type": "code",
   "execution_count": 1,
   "metadata": {},
   "outputs": [],
   "source": [
    "import pandas as pd\n",
    "import requests"
   ]
  },
  {
   "cell_type": "code",
   "execution_count": 2,
   "metadata": {},
   "outputs": [],
   "source": [
    "sleeper_data = requests.get('https://api.sleeper.app/v1/players/nfl')"
   ]
  },
  {
   "cell_type": "code",
   "execution_count": 15,
   "metadata": {},
   "outputs": [],
   "source": [
    "player_data = pd.DataFrame(sleeper_data.json()).T"
   ]
  },
  {
   "cell_type": "code",
   "execution_count": null,
   "metadata": {},
   "outputs": [],
   "source": [
    "## Antes de quitar puntuacion 1162\n",
    "## Despues de puntuacion 838\n",
    "## Mas merges 800"
   ]
  },
  {
   "cell_type": "code",
   "execution_count": 35,
   "metadata": {},
   "outputs": [],
   "source": [
    "import re\n",
    "\n",
    "player_data['first_name'] = player_data['first_name'].str.replace(r'[^a-zA-Z]', '', regex=True)\n",
    "player_data['last_name'] = player_data['last_name'].str.replace(r'[^a-zA-Z]', '', regex=True)"
   ]
  },
  {
   "cell_type": "code",
   "execution_count": 36,
   "metadata": {},
   "outputs": [],
   "source": [
    "player_data['Name'] = player_data['first_name'] + player_data['last_name']"
   ]
  },
  {
   "cell_type": "code",
   "execution_count": 44,
   "metadata": {},
   "outputs": [],
   "source": [
    "player_data = player_data.reset_index(names=['sleeper_id'])"
   ]
  },
  {
   "cell_type": "code",
   "execution_count": 18,
   "metadata": {},
   "outputs": [],
   "source": [
    "combo2 = pd.read_csv(\"../data/2023_model_data_1_PPR.csv\")"
   ]
  },
  {
   "cell_type": "code",
   "execution_count": 52,
   "metadata": {},
   "outputs": [],
   "source": [
    "df = combo2.merge(player_data[['Name','sleeper_id']],on='Name',how='left')[['Name','sleeper_id','position']]"
   ]
  },
  {
   "cell_type": "code",
   "execution_count": 63,
   "metadata": {},
   "outputs": [],
   "source": [
    "from fuzzywuzzy import process\n",
    "\n",
    "def fuzzy_merge(df1, df2, key1, key2, threshold=90, limit=1):\n",
    "    \"\"\"\n",
    "    df1 is the left table to join\n",
    "    df2 is the right table to join\n",
    "    key1 is the key column of df1\n",
    "    key2 is the key column of df2\n",
    "    threshold is how close the matches should be to return a match, based on Levenshtein distance\n",
    "    limit is the amount of matches that will get returned, these are sorted high to low\n",
    "    \"\"\"\n",
    "    s = df2[key2].tolist()\n",
    "    \n",
    "    m = df1[key1].apply(lambda x: process.extract(x, s, limit=limit))\n",
    "    df1['matches'] = m\n",
    "    \n",
    "    m2 = df1['matches'].apply(lambda x: ', '.join([i[0] for i in x if i[1] >= threshold]))\n",
    "    df1['matches'] = m2\n",
    "    \n",
    "    return df1\n",
    "\n",
    "def merge_player_data(combo2, player_data):\n",
    "    # First, perform the initial merge\n",
    "    df = combo2.merge(player_data[['Name','sleeper_id']], on='Name', how='left')[['Name','sleeper_id','position']]\n",
    "    list_fuzzy = []\n",
    "    # Identify unmatched players\n",
    "    unmatched = df[df['sleeper_id'].isna()]\n",
    "    \n",
    "    # Perform fuzzy merge for each position\n",
    "    positions = unmatched['position'].unique()\n",
    "    \n",
    "    for pos in positions:\n",
    "        pos_unmatched = unmatched[unmatched['position'] == pos]\n",
    "        pos_player_data = player_data[player_data['position'] == pos]\n",
    "        \n",
    "        pos_fuzzy = fuzzy_merge(pos_unmatched, pos_player_data, 'Name', 'Name')\n",
    "        pos_fuzzy = pos_fuzzy.merge(pos_player_data[['Name', 'sleeper_id']], left_on='matches', right_on='Name', how='left')\n",
    "        pos_fuzzy = pos_fuzzy.drop(['matches', 'Name_y'], axis=1)\n",
    "        pos_fuzzy = pos_fuzzy.rename(columns={'sleeper_id_y': 'sleeper_id', 'Name_x': 'Name'})\n",
    "        list_fuzzy.append(pos_fuzzy)\n",
    "    df_fuzzy = pd.concat(list_fuzzy,ignore_index=True)\n",
    "    return df,df_fuzzy"
   ]
  },
  {
   "cell_type": "code",
   "execution_count": 64,
   "metadata": {},
   "outputs": [
    {
     "name": "stderr",
     "output_type": "stream",
     "text": [
      "C:\\Users\\isaac\\AppData\\Local\\Temp\\ipykernel_23040\\1967388867.py:15: SettingWithCopyWarning: \n",
      "A value is trying to be set on a copy of a slice from a DataFrame.\n",
      "Try using .loc[row_indexer,col_indexer] = value instead\n",
      "\n",
      "See the caveats in the documentation: https://pandas.pydata.org/pandas-docs/stable/user_guide/indexing.html#returning-a-view-versus-a-copy\n",
      "  df1['matches'] = m\n",
      "C:\\Users\\isaac\\AppData\\Local\\Temp\\ipykernel_23040\\1967388867.py:18: SettingWithCopyWarning: \n",
      "A value is trying to be set on a copy of a slice from a DataFrame.\n",
      "Try using .loc[row_indexer,col_indexer] = value instead\n",
      "\n",
      "See the caveats in the documentation: https://pandas.pydata.org/pandas-docs/stable/user_guide/indexing.html#returning-a-view-versus-a-copy\n",
      "  df1['matches'] = m2\n",
      "C:\\Users\\isaac\\AppData\\Local\\Temp\\ipykernel_23040\\1967388867.py:15: SettingWithCopyWarning: \n",
      "A value is trying to be set on a copy of a slice from a DataFrame.\n",
      "Try using .loc[row_indexer,col_indexer] = value instead\n",
      "\n",
      "See the caveats in the documentation: https://pandas.pydata.org/pandas-docs/stable/user_guide/indexing.html#returning-a-view-versus-a-copy\n",
      "  df1['matches'] = m\n",
      "C:\\Users\\isaac\\AppData\\Local\\Temp\\ipykernel_23040\\1967388867.py:18: SettingWithCopyWarning: \n",
      "A value is trying to be set on a copy of a slice from a DataFrame.\n",
      "Try using .loc[row_indexer,col_indexer] = value instead\n",
      "\n",
      "See the caveats in the documentation: https://pandas.pydata.org/pandas-docs/stable/user_guide/indexing.html#returning-a-view-versus-a-copy\n",
      "  df1['matches'] = m2\n",
      "C:\\Users\\isaac\\AppData\\Local\\Temp\\ipykernel_23040\\1967388867.py:15: SettingWithCopyWarning: \n",
      "A value is trying to be set on a copy of a slice from a DataFrame.\n",
      "Try using .loc[row_indexer,col_indexer] = value instead\n",
      "\n",
      "See the caveats in the documentation: https://pandas.pydata.org/pandas-docs/stable/user_guide/indexing.html#returning-a-view-versus-a-copy\n",
      "  df1['matches'] = m\n",
      "C:\\Users\\isaac\\AppData\\Local\\Temp\\ipykernel_23040\\1967388867.py:18: SettingWithCopyWarning: \n",
      "A value is trying to be set on a copy of a slice from a DataFrame.\n",
      "Try using .loc[row_indexer,col_indexer] = value instead\n",
      "\n",
      "See the caveats in the documentation: https://pandas.pydata.org/pandas-docs/stable/user_guide/indexing.html#returning-a-view-versus-a-copy\n",
      "  df1['matches'] = m2\n",
      "C:\\Users\\isaac\\AppData\\Local\\Temp\\ipykernel_23040\\1967388867.py:15: SettingWithCopyWarning: \n",
      "A value is trying to be set on a copy of a slice from a DataFrame.\n",
      "Try using .loc[row_indexer,col_indexer] = value instead\n",
      "\n",
      "See the caveats in the documentation: https://pandas.pydata.org/pandas-docs/stable/user_guide/indexing.html#returning-a-view-versus-a-copy\n",
      "  df1['matches'] = m\n",
      "C:\\Users\\isaac\\AppData\\Local\\Temp\\ipykernel_23040\\1967388867.py:18: SettingWithCopyWarning: \n",
      "A value is trying to be set on a copy of a slice from a DataFrame.\n",
      "Try using .loc[row_indexer,col_indexer] = value instead\n",
      "\n",
      "See the caveats in the documentation: https://pandas.pydata.org/pandas-docs/stable/user_guide/indexing.html#returning-a-view-versus-a-copy\n",
      "  df1['matches'] = m2\n"
     ]
    }
   ],
   "source": [
    "df,df_fuzzy = merge_player_data(combo2, player_data)"
   ]
  },
  {
   "cell_type": "code",
   "execution_count": 85,
   "metadata": {},
   "outputs": [],
   "source": [
    "df = combo2.merge(player_data[['Name','sleeper_id']], on='Name', how='left')[['Name','sleeper_id','position']]"
   ]
  },
  {
   "cell_type": "code",
   "execution_count": 89,
   "metadata": {},
   "outputs": [],
   "source": [
    "for name in df['Name'].unique():\n",
    "    try:\n",
    "        id_fuzzy = df_fuzzy[df_fuzzy['Name']==name]['sleeper_id'].iloc[0]\n",
    "        df.loc[df['Name']==name,'sleeper_id'] = id_fuzzy\n",
    "    except:\n",
    "        pass"
   ]
  },
  {
   "cell_type": "code",
   "execution_count": 88,
   "metadata": {},
   "outputs": [
    {
     "data": {
      "text/plain": [
       "1      7547\n",
       "11     7547\n",
       "339    7547\n",
       "Name: sleeper_id, dtype: object"
      ]
     },
     "execution_count": 88,
     "metadata": {},
     "output_type": "execute_result"
    }
   ],
   "source": [
    "df_fuzzy[df_fuzzy['Name']=='AmonRaSt']['sleeper_id']"
   ]
  },
  {
   "cell_type": "code",
   "execution_count": null,
   "metadata": {},
   "outputs": [],
   "source": [
    "df.loc[df['Name']==name,'sleeper_id'] = id_fuzzy"
   ]
  },
  {
   "cell_type": "code",
   "execution_count": 92,
   "metadata": {},
   "outputs": [
    {
     "data": {
      "text/html": [
       "<div>\n",
       "<style scoped>\n",
       "    .dataframe tbody tr th:only-of-type {\n",
       "        vertical-align: middle;\n",
       "    }\n",
       "\n",
       "    .dataframe tbody tr th {\n",
       "        vertical-align: top;\n",
       "    }\n",
       "\n",
       "    .dataframe thead th {\n",
       "        text-align: right;\n",
       "    }\n",
       "</style>\n",
       "<table border=\"1\" class=\"dataframe\">\n",
       "  <thead>\n",
       "    <tr style=\"text-align: right;\">\n",
       "      <th></th>\n",
       "      <th>Name</th>\n",
       "      <th>sleeper_id</th>\n",
       "      <th>position</th>\n",
       "    </tr>\n",
       "  </thead>\n",
       "  <tbody>\n",
       "    <tr>\n",
       "      <th>234</th>\n",
       "      <td>RandyMoss</td>\n",
       "      <td>NaN</td>\n",
       "      <td>WR</td>\n",
       "    </tr>\n",
       "    <tr>\n",
       "      <th>429</th>\n",
       "      <td>JosephAddai</td>\n",
       "      <td>NaN</td>\n",
       "      <td>RB</td>\n",
       "    </tr>\n",
       "    <tr>\n",
       "      <th>456</th>\n",
       "      <td>HinesWard</td>\n",
       "      <td>NaN</td>\n",
       "      <td>WR</td>\n",
       "    </tr>\n",
       "    <tr>\n",
       "      <th>491</th>\n",
       "      <td>RickyWilliams</td>\n",
       "      <td>NaN</td>\n",
       "      <td>RB</td>\n",
       "    </tr>\n",
       "    <tr>\n",
       "      <th>519</th>\n",
       "      <td>ThomasJones</td>\n",
       "      <td>NaN</td>\n",
       "      <td>RB</td>\n",
       "    </tr>\n",
       "    <tr>\n",
       "      <th>...</th>\n",
       "      <td>...</td>\n",
       "      <td>...</td>\n",
       "      <td>...</td>\n",
       "    </tr>\n",
       "    <tr>\n",
       "      <th>7721</th>\n",
       "      <td>KyleBoller</td>\n",
       "      <td>NaN</td>\n",
       "      <td>QB</td>\n",
       "    </tr>\n",
       "    <tr>\n",
       "      <th>7729</th>\n",
       "      <td>BrodieCroyle</td>\n",
       "      <td>NaN</td>\n",
       "      <td>QB</td>\n",
       "    </tr>\n",
       "    <tr>\n",
       "      <th>7747</th>\n",
       "      <td>ChrisSimms</td>\n",
       "      <td>NaN</td>\n",
       "      <td>QB</td>\n",
       "    </tr>\n",
       "    <tr>\n",
       "      <th>7749</th>\n",
       "      <td>CurtisPainter</td>\n",
       "      <td>NaN</td>\n",
       "      <td>QB</td>\n",
       "    </tr>\n",
       "    <tr>\n",
       "      <th>7750</th>\n",
       "      <td>DesmondClark</td>\n",
       "      <td>NaN</td>\n",
       "      <td>TE</td>\n",
       "    </tr>\n",
       "  </tbody>\n",
       "</table>\n",
       "<p>800 rows × 3 columns</p>\n",
       "</div>"
      ],
      "text/plain": [
       "               Name sleeper_id position\n",
       "234       RandyMoss        NaN       WR\n",
       "429     JosephAddai        NaN       RB\n",
       "456       HinesWard        NaN       WR\n",
       "491   RickyWilliams        NaN       RB\n",
       "519     ThomasJones        NaN       RB\n",
       "...             ...        ...      ...\n",
       "7721     KyleBoller        NaN       QB\n",
       "7729   BrodieCroyle        NaN       QB\n",
       "7747     ChrisSimms        NaN       QB\n",
       "7749  CurtisPainter        NaN       QB\n",
       "7750   DesmondClark        NaN       TE\n",
       "\n",
       "[800 rows x 3 columns]"
      ]
     },
     "execution_count": 92,
     "metadata": {},
     "output_type": "execute_result"
    }
   ],
   "source": [
    "df[df['sleeper_id'].isna()]"
   ]
  },
  {
   "cell_type": "code",
   "execution_count": 102,
   "metadata": {},
   "outputs": [],
   "source": [
    "df_fuzzy_names = df_fuzzy[df_fuzzy['sleeper_id'].isna()==False].drop_duplicates()"
   ]
  }
 ],
 "metadata": {
  "kernelspec": {
   "display_name": ".venv",
   "language": "python",
   "name": "python3"
  },
  "language_info": {
   "codemirror_mode": {
    "name": "ipython",
    "version": 3
   },
   "file_extension": ".py",
   "mimetype": "text/x-python",
   "name": "python",
   "nbconvert_exporter": "python",
   "pygments_lexer": "ipython3",
   "version": "3.10.11"
  }
 },
 "nbformat": 4,
 "nbformat_minor": 2
}
