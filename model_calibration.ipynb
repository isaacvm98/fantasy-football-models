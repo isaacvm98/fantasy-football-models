{
 "cells": [
  {
   "cell_type": "code",
   "execution_count": 6,
   "metadata": {},
   "outputs": [],
   "source": [
    "from joblib import load\n",
    "import pandas as pd, numpy as np\n",
    "import matplotlib.pyplot as plt"
   ]
  },
  {
   "cell_type": "code",
   "execution_count": 7,
   "metadata": {},
   "outputs": [],
   "source": [
    "rf2023 = load('models/2023_rf_100tree.joblib')\n",
    "test_x_2023 = pd.read_csv('data/test_x_2023.csv')\n",
    "test_y_2023 = pd.read_csv('data/test_y_2023.csv')\n",
    "c2_whole_2023 = pd.read_csv('data/c2_whole_2023.csv')\n",
    "names_2023 = c2_whole_2023['Name'].reset_index(drop=True)\n",
    "positions_2023 = c2_whole_2023['position'].reset_index(drop=True)"
   ]
  },
  {
   "cell_type": "code",
   "execution_count": 8,
   "metadata": {},
   "outputs": [
    {
     "data": {
      "text/plain": [
       "<matplotlib.collections.PathCollection at 0x13ff98670>"
      ]
     },
     "execution_count": 8,
     "metadata": {},
     "output_type": "execute_result"
    },
    {
     "data": {
      "image/png": "[encoded data removed]",
      "text/plain": [
       "<Figure size 640x480 with 1 Axes>"
      ]
     },
     "metadata": {},
     "output_type": "display_data"
    }
   ],
   "source": [
    "#quick regression\n",
    "preds = rf2023.predict(test_x_2023)\n",
    "plt.scatter(test_y_2023, preds, alpha=.5)"
   ]
  },
  {
   "cell_type": "code",
   "execution_count": null,
   "metadata": {},
   "outputs": [],
   "source": [
    "#residuals plot\n",
    "\n",
    "residuals = test_y_2023 - preds\n",
    "\n",
    "# Plot residuals\n",
    "plt.scatter(test_y_2023, residuals, alpha=0.5)\n",
    "plt.title('Residuals vs. True Values')\n",
    "plt.xlabel('True Values')\n",
    "plt.ylabel('Residuals')\n",
    "plt.axhline(y=0, color='r', linestyle='--')\n",
    "plt.show()"
   ]
  },
  {
   "cell_type": "code",
   "execution_count": null,
   "metadata": {},
   "outputs": [],
   "source": [
    "#residuals histogram\n",
    "plt.hist(residuals, bins=30, edgecolor='k')\n",
    "plt.title('Histogram of Residuals')\n",
    "plt.xlabel('Residual')\n",
    "plt.ylabel('Count')\n",
    "plt.show()"
   ]
  },
  {
   "cell_type": "code",
   "execution_count": null,
   "metadata": {},
   "outputs": [],
   "source": [
    "#qq plot\n",
    "import scipy.stats as stats\n",
    "stats.probplot(residuals, dist=\"norm\", plot=plt)\n",
    "plt.title(\"Q-Q Plot\")\n",
    "plt.show()"
   ]
  },
  {
   "cell_type": "code",
   "execution_count": null,
   "metadata": {},
   "outputs": [],
   "source": [
    "#eval metrics\n",
    "from sklearn.metrics import mean_absolute_error, mean_squared_error, r2_score\n",
    "\n",
    "mae = mean_absolute_error(test_y, preds)\n",
    "mse = mean_squared_error(test_y, preds)\n",
    "r2 = r2_score(test_y, rf.predict(test_x))\n",
    "\n",
    "print(f\"MAE: {mae}, MSE: {mse}, R^2: {r2}\")"
   ]
  },
  {
   "cell_type": "code",
   "execution_count": null,
   "metadata": {},
   "outputs": [],
   "source": [
    "#calibration\n",
    "df_calib = pd.DataFrame({'predictions': preds, 'true': test_y})\n",
    "df_calib['pred_decile'] = pd.qcut(preds, q=10, labels=False)\n",
    "grouped = df_calib.groupby('pred_decile').mean()\n",
    "\n",
    "plt.plot(grouped['predictions'], grouped['true'], 'o-', label='Random Forest')\n",
    "plt.plot([min(preds), max(preds)], [min(preds), max(preds)], 'k--', label='Perfectly Calibrated')\n",
    "plt.xlabel('Mean Predicted Value')\n",
    "plt.ylabel('Mean True Value')\n",
    "plt.title('Calibration Plot')\n",
    "plt.legend()\n",
    "plt.show()"
   ]
  }
 ],
 "metadata": {
  "kernelspec": {
   "display_name": ".venv",
   "language": "python",
   "name": "python3"
  },
  "language_info": {
   "codemirror_mode": {
    "name": "ipython",
    "version": 3
   },
   "file_extension": ".py",
   "mimetype": "text/x-python",
   "name": "python",
   "nbconvert_exporter": "python",
   "pygments_lexer": "ipython3",
   "version": "3.9.1"
  },
  "orig_nbformat": 4
 },
 "nbformat": 4,
 "nbformat_minor": 2
}
